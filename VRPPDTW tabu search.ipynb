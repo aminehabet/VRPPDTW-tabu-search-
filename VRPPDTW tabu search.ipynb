{
 "cells": [
  {
   "cell_type": "code",
   "execution_count": 13,
   "metadata": {},
   "outputs": [
    {
     "name": "stdout",
     "output_type": "stream",
     "text": [
      "[[0, 6, 9, 8, 7, 3, 6, 2, 3, 2, 6, 6, 4, 4, 5, 9, 7], [6, 0, 8, 3, 2, 6, 8, 4, 8, 8, 13, 7, 5, 8, 12, 10, 14], [9, 8, 0, 11, 10, 6, 3, 9, 5, 8, 4, 15, 14, 13, 9, 18, 9], [8, 3, 11, 0, 1, 7, 10, 6, 10, 10, 14, 6, 7, 9, 14, 6, 16], [7, 2, 10, 1, 0, 6, 9, 4, 8, 9, 13, 4, 6, 8, 12, 8, 14], [3, 6, 6, 7, 6, 0, 2, 3, 2, 2, 7, 9, 7, 7, 6, 12, 8], [6, 8, 3, 10, 9, 2, 0, 6, 2, 5, 4, 12, 10, 10, 6, 15, 5], [2, 4, 9, 6, 4, 3, 6, 0, 4, 4, 8, 5, 4, 3, 7, 8, 10], [3, 8, 5, 10, 8, 2, 2, 4, 0, 3, 4, 9, 8, 7, 3, 13, 6], [2, 8, 8, 10, 9, 2, 5, 4, 3, 0, 4, 6, 5, 4, 3, 9, 5], [6, 13, 4, 14, 13, 7, 4, 8, 4, 4, 0, 10, 9, 8, 4, 13, 4], [6, 7, 15, 6, 4, 9, 12, 5, 9, 6, 10, 0, 1, 3, 7, 3, 10], [4, 5, 14, 7, 6, 7, 10, 4, 8, 5, 9, 1, 0, 2, 6, 4, 8], [4, 8, 13, 9, 8, 7, 10, 3, 7, 4, 8, 3, 2, 0, 4, 5, 6], [5, 12, 9, 14, 12, 6, 6, 7, 3, 3, 4, 7, 6, 4, 0, 9, 2], [9, 10, 18, 6, 8, 12, 15, 8, 13, 9, 13, 3, 4, 5, 9, 0, 9], [7, 14, 9, 16, 14, 8, 5, 10, 6, 5, 4, 10, 8, 6, 2, 9, 0]]\n"
     ]
    }
   ],
   "source": [
    "import numpy as np\n",
    "import pandas as pd\n",
    "from matplotlib import pyplot as plt\n",
    "\n",
    "data = {}\n",
    "data['time_matrix'] = [\n",
    "    [0, 6, 9, 8, 7, 3, 6, 2, 3, 2, 6, 6, 4, 4, 5, 9, 7],                 #0\n",
    "    [6, 0, 8, 3, 2, 6, 8, 4, 8, 8, 13, 7, 5, 8, 12, 10, 14],             #1 \n",
    "    [9, 8, 0, 11, 10, 6, 3, 9, 5, 8, 4, 15, 14, 13, 9, 18, 9],           #2\n",
    "    [8, 3, 11, 0, 1, 7, 10, 6, 10, 10, 14, 6, 7, 9, 14, 6, 16],          #3   \n",
    "    [7, 2, 10, 1, 0, 6, 9, 4, 8, 9, 13, 4, 6, 8, 12, 8, 14],             #4\n",
    "    [3, 6, 6, 7, 6, 0, 2, 3, 2, 2, 7, 9, 7, 7, 6, 12, 8],                #5\n",
    "    [6, 8, 3, 10, 9, 2, 0, 6, 2, 5, 4, 12, 10, 10, 6, 15, 5],            #6\n",
    "    [2, 4, 9, 6, 4, 3, 6, 0, 4, 4, 8, 5, 4, 3, 7, 8, 10],                #7\n",
    "    [3, 8, 5, 10, 8, 2, 2, 4, 0, 3, 4, 9, 8, 7, 3, 13, 6],               #8\n",
    "    [2, 8, 8, 10, 9, 2, 5, 4, 3, 0, 4, 6, 5, 4, 3, 9, 5],                #9\n",
    "    [6, 13, 4, 14, 13, 7, 4, 8, 4, 4, 0, 10, 9, 8, 4, 13, 4],            #10\n",
    "    [6, 7, 15, 6, 4, 9, 12, 5, 9, 6, 10, 0, 1, 3, 7, 3, 10],             #11\n",
    "    [4, 5, 14, 7, 6, 7, 10, 4, 8, 5, 9, 1, 0, 2, 6, 4, 8],               #12\n",
    "    [4, 8, 13, 9, 8, 7, 10, 3, 7, 4, 8, 3, 2, 0, 4, 5, 6],               #13\n",
    "    [5, 12, 9, 14, 12, 6, 6, 7, 3, 3, 4, 7, 6, 4, 0, 9, 2],              #14\n",
    "    [9, 10, 18, 6, 8, 12, 15, 8, 13, 9, 13, 3, 4, 5, 9, 0, 9],           #15\n",
    "    [7, 14, 9, 16, 14, 8, 5, 10, 6, 5, 4, 10, 8, 6, 2, 9, 0],            #\n",
    "]\n",
    "data['time_windows'] = [\n",
    "    (0, 50),  # depot\n",
    "    (0, 50),  # 1\n",
    "    (0, 50),  # 2\n",
    "    (0, 50),  # 3\n",
    "    (0, 50),  # 4\n",
    "    (0, 50),  # 5\n",
    "    (0, 50),  # 6\n",
    "    (0, 50),  # 7\n",
    "    (0, 50),  # 8\n",
    "    (0, 50),  # 9\n",
    "    (0, 50),  # 10\n",
    "    (0, 50),  # 11\n",
    "    (0, 50),  # 12\n",
    "    (0, 50),  # 13\n",
    "    (0, 50),  # 14\n",
    "    (0, 50),  # 15\n",
    "    (0, 50),  # 16\n",
    "]\n",
    "data['pickups_deliveries'] = [\n",
    "    [1, 6],\n",
    "    [2, 10],\n",
    "    [4, 3],\n",
    "    [5, 9],\n",
    "    [7, 8],\n",
    "    [15, 11],\n",
    "    [13, 12],\n",
    "    [16, 14],\n",
    "]\n",
    "data['num_vehicles'] = 4\n",
    "data['depot'] = 0\n",
    "\n",
    "print(data['time_matrix'])\n"
   ]
  },
  {
   "cell_type": "code",
   "execution_count": 14,
   "metadata": {},
   "outputs": [],
   "source": [
    "def tabu_search(data):\n",
    "    tabu_list = [int(name) for name in range(len(data['time_matrix']))]\n",
    "    solution = [[0] for c in range(data['num_vehicles'])]\n",
    "    time = np.zeros(data['num_vehicles'])\n",
    "    tabu_list.remove(0)\n",
    "    p = np.zeros(data['num_vehicles'])\n",
    "    while len(tabu_list) > 0:\n",
    "        for s in range(data['num_vehicles']):    \n",
    "            u = solution[s][-1]\n",
    "            v = tabu_list[-1]\n",
    "            distance = float(\"inf\")\n",
    "            for w in tabu_list:\n",
    "                if data['time_matrix'][int(u)][int(w)] < distance:\n",
    "                    distance = data['time_matrix'][int(u)][int(w)]\n",
    "                    v = w\n",
    "                if time[s] + data['time_matrix'][int(u)][int(w)] > data['time_windows'][v][1]:\n",
    "                    break\n",
    "                    return('Error time window')\n",
    "                \n",
    "                \n",
    "            solution[s].append(v)\n",
    "            ps = int(p[s])\n",
    "            time[s] += data['time_matrix'][ps][v]\n",
    "            print(s)\n",
    "            print(int(p[s]), v)\n",
    "            print(time)\n",
    "            p[s] = v\n",
    "            tabu_list.remove(v)\n",
    "        if time[s] + data['time_matrix'][int(u)][int(v)] > data['time_windows'][v][1]:\n",
    "            raise ValueError('A very specific bad thing with time windows happened.')            \n",
    "    return solution, time"
   ]
  },
  {
   "cell_type": "code",
   "execution_count": 15,
   "metadata": {},
   "outputs": [
    {
     "name": "stdout",
     "output_type": "stream",
     "text": [
      "0\n",
      "0 7\n",
      "[2. 0. 0. 0.]\n",
      "1\n",
      "0 9\n",
      "[2. 2. 0. 0.]\n",
      "2\n",
      "0 5\n",
      "[2. 2. 3. 0.]\n",
      "3\n",
      "0 8\n",
      "[2. 2. 3. 3.]\n",
      "0\n",
      "7 13\n",
      "[5. 2. 3. 3.]\n",
      "1\n",
      "9 14\n",
      "[5. 5. 3. 3.]\n",
      "2\n",
      "5 6\n",
      "[5. 5. 5. 3.]\n",
      "3\n",
      "8 10\n",
      "[5. 5. 5. 7.]\n",
      "0\n",
      "13 12\n",
      "[7. 5. 5. 7.]\n",
      "1\n",
      "14 16\n",
      "[7. 7. 5. 7.]\n",
      "2\n",
      "6 2\n",
      "[7. 7. 8. 7.]\n",
      "3\n",
      "10 11\n",
      "[ 7.  7.  8. 17.]\n",
      "0\n",
      "12 15\n",
      "[11.  7.  8. 17.]\n",
      "1\n",
      "16 1\n",
      "[11. 21.  8. 17.]\n",
      "2\n",
      "2 4\n",
      "[11. 21. 18. 17.]\n",
      "3\n",
      "11 3\n",
      "[11. 21. 18. 23.]\n"
     ]
    }
   ],
   "source": [
    "solution, time = tabu_search(data)"
   ]
  },
  {
   "cell_type": "code",
   "execution_count": 7,
   "metadata": {},
   "outputs": [
    {
     "name": "stdout",
     "output_type": "stream",
     "text": [
      "[[0, 7], [0, 9], [0, 5], [0, 8]]\n",
      "\n",
      "\n",
      "[2. 2. 3. 3.]\n"
     ]
    }
   ],
   "source": [
    "print(solution)\n",
    "print('\\n')\n",
    "print(time)"
   ]
  },
  {
   "cell_type": "code",
   "execution_count": 25,
   "metadata": {},
   "outputs": [
    {
     "name": "stdout",
     "output_type": "stream",
     "text": [
      "12.0\n",
      "[ 0.  0. 12.  0.]\n"
     ]
    }
   ],
   "source": [
    "t = np.zeros(4)\n",
    "t[2] = 5\n",
    "t[2] += 7\n",
    "r = t[2]\n",
    "print(r)\n",
    "print(t)"
   ]
  },
  {
   "cell_type": "code",
   "execution_count": 17,
   "metadata": {},
   "outputs": [
    {
     "data": {
      "text/plain": [
       "50"
      ]
     },
     "execution_count": 17,
     "metadata": {},
     "output_type": "execute_result"
    }
   ],
   "source": [
    "data['time_windows'][1][1]"
   ]
  },
  {
   "cell_type": "code",
   "execution_count": 95,
   "metadata": {},
   "outputs": [],
   "source": [
    "def tabu_search(data):\n",
    "    tabu_list = [int(name) for name in range(len(data['time_matrix']))]\n",
    "    solution = [[0] for c in range(data['num_vehicles'])]\n",
    "    time = np.zeros(data['num_vehicles'])\n",
    "    tabu_list.remove(0)\n",
    "    p = np.zeros(data['num_vehicles'])\n",
    "    while len(tabu_list) > 0:\n",
    "        for s in range(data['num_vehicles']):    \n",
    "            u = solution[s][-1]\n",
    "            v = tabu_list[-1]\n",
    "            distance = float(\"inf\")\n",
    "            for w in tabu_list:\n",
    "                if data['time_matrix'][int(u)][int(w)] < distance:\n",
    "                    distance = data['time_matrix'][int(u)][int(w)]\n",
    "                    v = w\n",
    "            solution[s].append(v)\n",
    "            ps = int(p[s])\n",
    "            time[s] += data['time_matrix'][ps][v]\n",
    "            print(p[s], v)\n",
    "            print(time)\n",
    "            p[s] = v\n",
    "            tabu_list.remove(v)\n",
    "            if time[s] > data['time_windows'][v][1]:\n",
    "                print('Error time window')\n",
    "                break\n",
    "    return solution, time"
   ]
  },
  {
   "cell_type": "code",
   "execution_count": 96,
   "metadata": {},
   "outputs": [
    {
     "name": "stdout",
     "output_type": "stream",
     "text": [
      "0.0 7\n",
      "[2. 0. 0. 0.]\n",
      "0.0 9\n",
      "[2. 2. 0. 0.]\n",
      "0.0 5\n",
      "[2. 2. 3. 0.]\n",
      "0.0 8\n",
      "[2. 2. 3. 3.]\n",
      "7.0 13\n",
      "[5. 2. 3. 3.]\n",
      "9.0 14\n",
      "[5. 5. 3. 3.]\n",
      "5.0 6\n",
      "[5. 5. 5. 3.]\n",
      "8.0 10\n",
      "[5. 5. 5. 7.]\n",
      "13.0 12\n",
      "[7. 5. 5. 7.]\n",
      "14.0 16\n",
      "[7. 7. 5. 7.]\n",
      "6.0 2\n",
      "[7. 7. 8. 7.]\n",
      "10.0 11\n",
      "[ 7.  7.  8. 17.]\n",
      "12.0 15\n",
      "[11.  7.  8. 17.]\n",
      "16.0 1\n",
      "[11. 21.  8. 17.]\n",
      "2.0 4\n",
      "[11. 21. 18. 17.]\n",
      "11.0 3\n",
      "[11. 21. 18. 23.]\n"
     ]
    }
   ],
   "source": [
    "solution, time = tabu_search(data)"
   ]
  },
  {
   "cell_type": "code",
   "execution_count": null,
   "metadata": {},
   "outputs": [],
   "source": []
  }
 ],
 "metadata": {
  "kernelspec": {
   "display_name": "Python 3",
   "language": "python",
   "name": "python3"
  },
  "language_info": {
   "codemirror_mode": {
    "name": "ipython",
    "version": 3
   },
   "file_extension": ".py",
   "mimetype": "text/x-python",
   "name": "python",
   "nbconvert_exporter": "python",
   "pygments_lexer": "ipython3",
   "version": "3.6.9"
  }
 },
 "nbformat": 4,
 "nbformat_minor": 4
}
