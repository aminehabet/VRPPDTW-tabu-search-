{
 "cells": [
  {
   "cell_type": "markdown",
   "metadata": {},
   "source": [
    "# Vehicule Rooting Problem Time window with Pick-up and Delivery"
   ]
  },
  {
   "cell_type": "markdown",
   "metadata": {},
   "source": [
    "В дальнейшем мы представим параметры, определенные в нашей модели на языке Python.\n",
    "\n",
    "$t_{𝑖j𝑘}$: Временная матрица, которая определяет время в пути от точки $i$ до точки $j$ на транспортном средстве $k$ представлены в data['tijk']\n",
    "\n",
    "$P= {1,2,3,…. ,n}$ - это набор узлов сбора представлены в data['P'].\n",
    "\n",
    "$D= {n+1,n+2,…, 2n}$ - это набор узлов доставкипредставлены в data['D'].\n",
    "\n",
    "$N$ определяется как $P \\cup D$\n",
    "\n",
    "Для удобства мы также определили data['pickups_deliveries'] для простого и понятного заполнения данных  наборов $P$ и $D$.\n",
    "\n",
    "$K$ - набор транспортных средств от $1$ до $k$ Мы определим количество транспортных средств data['k'] \n",
    "\n",
    "Что касается ограничения временного окна, мы будем предполагать, что обслуживание в точке $i$ должно быть выполнено между моментами ai и bi определяется data['time_windows']\n"
   ]
  },
  {
   "cell_type": "code",
   "execution_count": 35,
   "metadata": {},
   "outputs": [],
   "source": [
    "import numpy as np\n",
    "import random as rd\n",
    "import networkx as nx #to plt the graph\n",
    "from matplotlib import pyplot as plt\n",
    "\n",
    "\n",
    "data = {}\n",
    "data['tijk'] = [ #tijk\n",
    "    [0, 6, 9, 8, 7, 3, 6, 2, 3, 2, 6, 6, 4, 4, 5, 9, 7],                 #0\n",
    "    [6, 0, 8, 3, 2, 6, 8, 4, 8, 8, 13, 7, 5, 8, 12, 10, 14],             #1 \n",
    "    [9, 8, 0, 11, 10, 6, 3, 9, 5, 8, 4, 15, 14, 13, 9, 18, 9],           #2\n",
    "    [8, 3, 11, 0, 1, 7, 10, 6, 10, 10, 14, 6, 7, 9, 14, 6, 16],          #3   \n",
    "    [7, 2, 10, 1, 0, 6, 9, 4, 8, 9, 13, 4, 6, 8, 12, 8, 14],             #4\n",
    "    [3, 6, 6, 7, 6, 0, 2, 3, 2, 2, 7, 9, 7, 7, 6, 12, 8],                #5\n",
    "    [6, 8, 3, 10, 9, 2, 0, 6, 2, 5, 4, 12, 10, 10, 6, 15, 5],            #6\n",
    "    [2, 4, 9, 6, 4, 3, 6, 0, 4, 4, 8, 5, 4, 3, 7, 8, 10],                #7\n",
    "    [3, 8, 5, 10, 8, 2, 2, 4, 0, 3, 4, 9, 8, 7, 3, 13, 6],               #8\n",
    "    [2, 8, 8, 10, 9, 2, 5, 4, 3, 0, 4, 6, 5, 4, 3, 9, 5],                #9\n",
    "    [6, 13, 4, 14, 13, 7, 4, 8, 4, 4, 0, 10, 9, 8, 4, 13, 4],            #10\n",
    "    [6, 7, 15, 6, 4, 9, 12, 5, 9, 6, 10, 0, 1, 3, 7, 3, 10],             #11\n",
    "    [4, 5, 14, 7, 6, 7, 10, 4, 8, 5, 9, 1, 0, 2, 6, 4, 8],               #12\n",
    "    [4, 8, 13, 9, 8, 7, 10, 3, 7, 4, 8, 3, 2, 0, 4, 5, 6],               #13\n",
    "    [5, 12, 9, 14, 12, 6, 6, 7, 3, 3, 4, 7, 6, 4, 0, 9, 2],              #14\n",
    "    [9, 10, 18, 6, 8, 12, 15, 8, 13, 9, 13, 3, 4, 5, 9, 0, 9],           #15\n",
    "    [7, 14, 9, 16, 14, 8, 5, 10, 6, 5, 4, 10, 8, 6, 2, 9, 0],            #16\n",
    "]\n",
    "data['time_windows'] = [\n",
    "   #(ai, bi)\n",
    "    (0, 100),  # i = o(k)\n",
    "    (0, 100),  # i = 1\n",
    "    (0, 100),  # i = 2\n",
    "    (0, 100),  # i = 3\n",
    "    (0, 100),  # i = 4\n",
    "    (0, 100),  # i = 5\n",
    "    (0, 100),  # i = 6\n",
    "    (0, 100),  # i = 7\n",
    "    (0, 100),  # i = 8\n",
    "    (0, 100),  # i = 9\n",
    "    (0, 100),  # i = 10\n",
    "    (0, 100),  # i = 11\n",
    "    (0, 100),  # i = 12\n",
    "    (0, 100),  # i = 13\n",
    "    (0, 100),  # i = 14\n",
    "    (0, 100),  # i = 15\n",
    "    (0, 100),  # i = 16\n",
    "]\n",
    "data['pickups_deliveries'] = [\n",
    "    [1, 6],\n",
    "    [2, 10],\n",
    "    [4, 3],\n",
    "    [5, 9],\n",
    "    [7, 8],\n",
    "    [15, 11],\n",
    "    [13, 12],\n",
    "    [16, 14],\n",
    "]\n",
    "data['k'] = 7  #k: num vehicule \n",
    "data['o(k)'] = 0 # o(k) origin\n",
    "\n",
    "data['P'] = []\n",
    "for j in range(len(data['pickups_deliveries'])):\n",
    "    data['P'].append(data['pickups_deliveries'][j][0])\n",
    "\n",
    "data['D'] = []\n",
    "for j in range(len(data['pickups_deliveries'])):\n",
    "    data['D'].append(data['pickups_deliveries'][j][1])\n"
   ]
  },
  {
   "cell_type": "markdown",
   "metadata": {},
   "source": [
    "Мы печатаем параметры, определенные выше"
   ]
  },
  {
   "cell_type": "code",
   "execution_count": 36,
   "metadata": {},
   "outputs": [
    {
     "name": "stdout",
     "output_type": "stream",
     "text": [
      "tijk = [[0, 6, 9, 8, 7, 3, 6, 2, 3, 2, 6, 6, 4, 4, 5, 9, 7], [6, 0, 8, 3, 2, 6, 8, 4, 8, 8, 13, 7, 5, 8, 12, 10, 14], [9, 8, 0, 11, 10, 6, 3, 9, 5, 8, 4, 15, 14, 13, 9, 18, 9], [8, 3, 11, 0, 1, 7, 10, 6, 10, 10, 14, 6, 7, 9, 14, 6, 16], [7, 2, 10, 1, 0, 6, 9, 4, 8, 9, 13, 4, 6, 8, 12, 8, 14], [3, 6, 6, 7, 6, 0, 2, 3, 2, 2, 7, 9, 7, 7, 6, 12, 8], [6, 8, 3, 10, 9, 2, 0, 6, 2, 5, 4, 12, 10, 10, 6, 15, 5], [2, 4, 9, 6, 4, 3, 6, 0, 4, 4, 8, 5, 4, 3, 7, 8, 10], [3, 8, 5, 10, 8, 2, 2, 4, 0, 3, 4, 9, 8, 7, 3, 13, 6], [2, 8, 8, 10, 9, 2, 5, 4, 3, 0, 4, 6, 5, 4, 3, 9, 5], [6, 13, 4, 14, 13, 7, 4, 8, 4, 4, 0, 10, 9, 8, 4, 13, 4], [6, 7, 15, 6, 4, 9, 12, 5, 9, 6, 10, 0, 1, 3, 7, 3, 10], [4, 5, 14, 7, 6, 7, 10, 4, 8, 5, 9, 1, 0, 2, 6, 4, 8], [4, 8, 13, 9, 8, 7, 10, 3, 7, 4, 8, 3, 2, 0, 4, 5, 6], [5, 12, 9, 14, 12, 6, 6, 7, 3, 3, 4, 7, 6, 4, 0, 9, 2], [9, 10, 18, 6, 8, 12, 15, 8, 13, 9, 13, 3, 4, 5, 9, 0, 9], [7, 14, 9, 16, 14, 8, 5, 10, 6, 5, 4, 10, 8, 6, 2, 9, 0]] \n",
      "\n",
      "P = [1, 2, 4, 5, 7, 15, 13, 16] \n",
      "\n",
      "D = [6, 10, 3, 9, 8, 11, 12, 14] \n",
      "\n",
      "N = [1, 2, 4, 5, 7, 15, 13, 16, 6, 10, 3, 9, 8, 11, 12, 14] \n",
      "\n",
      "k = 7 \n",
      "\n"
     ]
    }
   ],
   "source": [
    "print(\"tijk =\", data['tijk'], '\\n')\n",
    "print(\"P =\", data['P'], '\\n')\n",
    "print(\"D =\", data['D'], '\\n')\n",
    "print(\"N =\", data['P'] + data['D'], '\\n')\n",
    "print(\"k =\", data['k'], '\\n')\n"
   ]
  },
  {
   "cell_type": "markdown",
   "metadata": {},
   "source": [
    "Алгоритм поиска Табу\n",
    "Алгоритм поиска табу ближайшего соседа работает таким образом. Это метаэвристический метод: итеративно выстраивает путь, который заканчивается приемлемым решением. Действительно, мы отказываемся пройти через пункт, который уже был посещен\n",
    "\n",
    "Поэтому алгоритм выглядит следующим образом:\n",
    "\n",
    "Input Solution=[отправная_точка_автомобиля_к], tabu_list=[]\n",
    "================================\n",
    "    while not Все точки посещенные:\n",
    "        for каждую машину к:\n",
    "            если условия указанных в моделях ограничений выполнены, все:\n",
    "                Интенсификация: Расчет расстояний между текущим w = Решение [-1]\n",
    "                 и все точки, не принадлежащие tabu_list\n",
    "    \n",
    "                Диверсификация: v = min (d (w, v) для v не в Табу)\n",
    "    \n",
    "         Решение для автомобиля к = Решение + [v]\n",
    "         Добавление v в список Табу\n",
    "end while\n",
    "================================\n",
    "Output Решение $G$, как представлено в модели, является графом, назначенным автомобилю $k$ для всех автомобилей $K$ \n",
    "и $Tik$ время в точке $i$ для автомобиля $k$"
   ]
  },
  {
   "cell_type": "code",
   "execution_count": 37,
   "metadata": {},
   "outputs": [],
   "source": [
    "def tabu_search(data):\n",
    "    tabu_list = [int(name) for name in range(len(data['tijk']))]\n",
    "    G = [[0] for c in range(data['k'])]\n",
    "    Tik = np.zeros(data['k'])\n",
    "    tabu_list.remove(0)\n",
    "    p = np.zeros(data['k'])\n",
    "    while len(tabu_list) > 0:\n",
    "        for k in range(data['k']):\n",
    "            if len(tabu_list) == 0:\n",
    "                break\n",
    "            u = G[k][-1]\n",
    "            v = tabu_list[-1]\n",
    "            minimum = float(\"inf\")\n",
    "            for w in tabu_list:\n",
    "                for itr in range(50000):\n",
    "                    if data['tijk'][int(u)][int(w)] < minimum \\\n",
    "                        and w in data['P'] or (w in data['D'] \\\n",
    "                        and data['P'][data['D'].index(w)] not in tabu_list \\\n",
    "                        and data['P'][data['D'].index(w)] in G[k]): \n",
    "                        minimum = data['tijk'][int(u)][int(w)]\n",
    "                        v = w\n",
    "                    if Tik[k] + data['tijk'][int(u)][int(w)] > data['time_windows'][v][1]:\n",
    "                        break\n",
    "                        return('Error time window')                \n",
    "            G[k].append(v)\n",
    "            pk = int(p[k])\n",
    "            Tik[k] += data['tijk'][pk][v]\n",
    "            print('vehicule', k + 1)\n",
    "            print('ftom', int(p[k]),'to', v)\n",
    "            print('T {} {} = {}' .format(v, k + 1, Tik[k]))\n",
    "            print('\\n')\n",
    "            p[k] = v\n",
    "            tabu_list.remove(v)\n",
    "        if Tik[k] + data['tijk'][int(u)][int(v)] > data['time_windows'][v][1]:\n",
    "            raise ValueError('A very specific bad thing with time windows happened.')            \n",
    "    return G, Tik"
   ]
  },
  {
   "cell_type": "markdown",
   "metadata": {},
   "source": [
    "В дальнейшем мы видим отображение на каждой итерации запретного поиска:\n",
    "\n",
    "$T_{ik}$, переменная времени, указывающая дату начала обслуживания в точке $i$ на грузовике $k$.\n",
    "\n",
    "точка $j$, которую наш алгоритм выбрал в качестве пункта назначения для машины $k$, которая находится в точке $i$"
   ]
  },
  {
   "cell_type": "code",
   "execution_count": 38,
   "metadata": {},
   "outputs": [
    {
     "name": "stdout",
     "output_type": "stream",
     "text": [
      "T_ik: Time variable indicating the start date of service at point i by the truck k.\n",
      "\n",
      "vehicule 1\n",
      "ftom 0 to 7\n",
      "T 7 1 = 2.0\n",
      "\n",
      "\n",
      "vehicule 2\n",
      "ftom 0 to 5\n",
      "T 5 2 = 3.0\n",
      "\n",
      "\n",
      "vehicule 3\n",
      "ftom 0 to 13\n",
      "T 13 3 = 4.0\n",
      "\n",
      "\n",
      "vehicule 4\n",
      "ftom 0 to 1\n",
      "T 1 4 = 6.0\n",
      "\n",
      "\n",
      "vehicule 5\n",
      "ftom 0 to 4\n",
      "T 4 5 = 7.0\n",
      "\n",
      "\n",
      "vehicule 6\n",
      "ftom 0 to 16\n",
      "T 16 6 = 7.0\n",
      "\n",
      "\n",
      "vehicule 7\n",
      "ftom 0 to 2\n",
      "T 2 7 = 9.0\n",
      "\n",
      "\n",
      "vehicule 1\n",
      "ftom 7 to 8\n",
      "T 8 1 = 6.0\n",
      "\n",
      "\n",
      "vehicule 2\n",
      "ftom 5 to 9\n",
      "T 9 2 = 5.0\n",
      "\n",
      "\n",
      "vehicule 3\n",
      "ftom 13 to 12\n",
      "T 12 3 = 6.0\n",
      "\n",
      "\n",
      "vehicule 4\n",
      "ftom 1 to 6\n",
      "T 6 4 = 14.0\n",
      "\n",
      "\n",
      "vehicule 5\n",
      "ftom 4 to 3\n",
      "T 3 5 = 8.0\n",
      "\n",
      "\n",
      "vehicule 6\n",
      "ftom 16 to 14\n",
      "T 14 6 = 9.0\n",
      "\n",
      "\n",
      "vehicule 7\n",
      "ftom 2 to 10\n",
      "T 10 7 = 13.0\n",
      "\n",
      "\n",
      "vehicule 1\n",
      "ftom 8 to 15\n",
      "T 15 1 = 19.0\n",
      "\n",
      "\n",
      "vehicule 2\n",
      "ftom 9 to 11\n",
      "T 11 2 = 11.0\n",
      "\n",
      "\n"
     ]
    }
   ],
   "source": [
    "print('T_ik: Time variable indicating the start date of service at point i by the truck k.\\n')\n",
    "G, Tik = tabu_search(data)"
   ]
  },
  {
   "cell_type": "markdown",
   "metadata": {},
   "source": [
    " графи $Gk = (V_K, A_k)$, представляющие маршрут каждого автомобиля $k$"
   ]
  },
  {
   "cell_type": "code",
   "execution_count": 39,
   "metadata": {},
   "outputs": [
    {
     "name": "stdout",
     "output_type": "stream",
     "text": [
      "G 1 = (V 1, A 1):\n",
      "[0, 7, 8, 15] \n",
      "\n",
      "G 2 = (V 2, A 2):\n",
      "[0, 5, 9, 11] \n",
      "\n",
      "G 3 = (V 3, A 3):\n",
      "[0, 13, 12] \n",
      "\n",
      "G 4 = (V 4, A 4):\n",
      "[0, 1, 6] \n",
      "\n",
      "G 5 = (V 5, A 5):\n",
      "[0, 4, 3] \n",
      "\n",
      "G 6 = (V 6, A 6):\n",
      "[0, 16, 14] \n",
      "\n",
      "G 7 = (V 7, A 7):\n",
      "[0, 2, 10] \n",
      "\n"
     ]
    }
   ],
   "source": [
    "for k in range(data['k']):\n",
    "    print('G {} = (V {}, A {}):'.format(k + 1, k + 1, k + 1))\n",
    "    print(G[k], '\\n')\n"
   ]
  },
  {
   "cell_type": "markdown",
   "metadata": {},
   "source": [
    "Мы предлагаем визуализацию, полученную из результата для k = 4"
   ]
  },
  {
   "cell_type": "code",
   "execution_count": 40,
   "metadata": {},
   "outputs": [],
   "source": [
    "def visual(G, k):\n",
    "    g = nx.Graph() \n",
    "    for k in range (data['k']):  \n",
    "        for i in range(len(G[k]) - 1):\n",
    "            g.add_edge(G[k][i], G[k][i+1]) \n",
    "    nx.draw_circular(g, with_labels = True, edge_color='r') \n",
    "  "
   ]
  },
  {
   "cell_type": "code",
   "execution_count": 41,
   "metadata": {},
   "outputs": [
    {
     "data": {
      "image/png": "[encoded data removed]",
      "text/plain": [
       "<Figure size 432x288 with 1 Axes>"
      ]
     },
     "metadata": {},
     "output_type": "display_data"
    }
   ],
   "source": [
    "visual(G, data['k'])"
   ]
  },
  {
   "cell_type": "code",
   "execution_count": null,
   "metadata": {},
   "outputs": [],
   "source": []
  }
 ],
 "metadata": {
  "kernelspec": {
   "display_name": "Python 3",
   "language": "python",
   "name": "python3"
  },
  "language_info": {
   "codemirror_mode": {
    "name": "ipython",
    "version": 3
   },
   "file_extension": ".py",
   "mimetype": "text/x-python",
   "name": "python",
   "nbconvert_exporter": "python",
   "pygments_lexer": "ipython3",
   "version": "3.8.2"
  }
 },
 "nbformat": 4,
 "nbformat_minor": 4
}
